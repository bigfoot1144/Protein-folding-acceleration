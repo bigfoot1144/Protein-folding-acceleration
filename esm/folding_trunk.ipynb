{
 "cells": [
  {
   "cell_type": "code",
   "execution_count": 3,
   "id": "ba544983",
   "metadata": {},
   "outputs": [],
   "source": [
    "from trunk import FoldingTrunk, FoldingTrunkConfig"
   ]
  },
  {
   "cell_type": "code",
   "execution_count": null,
   "id": "30117f3c",
   "metadata": {},
   "outputs": [],
   "source": []
  }
 ],
 "metadata": {
  "kernelspec": {
   "display_name": "Protein-folding-acceleration",
   "language": "python",
   "name": "python3"
  },
  "language_info": {
   "codemirror_mode": {
    "name": "ipython",
    "version": 3
   },
   "file_extension": ".py",
   "mimetype": "text/x-python",
   "name": "python",
   "nbconvert_exporter": "python",
   "pygments_lexer": "ipython3",
   "version": "3.12.3"
  }
 },
 "nbformat": 4,
 "nbformat_minor": 5
}
